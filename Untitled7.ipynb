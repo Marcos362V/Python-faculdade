{
  "nbformat": 4,
  "nbformat_minor": 0,
  "metadata": {
    "colab": {
      "provenance": []
    },
    "kernelspec": {
      "name": "python3",
      "display_name": "Python 3"
    },
    "language_info": {
      "name": "python"
    }
  },
  "cells": [
    {
      "cell_type": "code",
      "execution_count": null,
      "metadata": {
        "colab": {
          "base_uri": "https://localhost:8080/"
        },
        "id": "jp5u7Nz16VEA",
        "outputId": "abe42a4f-7a00-4705-9953-0fff5997fb9b"
      },
      "outputs": [
        {
          "output_type": "stream",
          "name": "stdout",
          "text": [
            "Entre com o primeiro numero: 5\n",
            "Entre 2: 10\n",
            "Entre 3: 5\n",
            "510101010105\n"
          ]
        }
      ],
      "source": [
        "a = input(\"Entre com o primeiro numero: \")\n",
        "b = input(\"Entre 2: \")\n",
        "c = input(\"Entre 3: \")\n",
        "contador = 0\n",
        "while contador < 5:\n",
        "  contador = contador +1\n",
        "  if a>b:\n",
        "   a = a+b\n",
        "else:\n",
        "   a= a+c\n",
        "print (a)"
      ]
    }
  ]
}