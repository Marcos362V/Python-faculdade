{
  "nbformat": 4,
  "nbformat_minor": 0,
  "metadata": {
    "colab": {
      "provenance": []
    },
    "kernelspec": {
      "name": "python3",
      "display_name": "Python 3"
    },
    "language_info": {
      "name": "python"
    }
  },
  "cells": [
    {
      "cell_type": "code",
      "execution_count": null,
      "metadata": {
        "colab": {
          "base_uri": "https://localhost:8080/"
        },
        "id": "ING1jbMumv62",
        "outputId": "06e02795-1ac5-4de7-afb0-43f6fad15734"
      },
      "outputs": [
        {
          "output_type": "stream",
          "name": "stdout",
          "text": [
            "Digite um número para calcular seu Fibonacci4\n",
            "O Fibonacci de 4 é 2\n"
          ]
        }
      ],
      "source": [
        "def fibonacci(num):\n",
        "  if num <=1:\n",
        "    return num\n",
        "  else:\n",
        "    return fibonacci(num-1) + fibonacci(num-2)\n",
        "\n",
        "x = int(input(\"Digite um número para calcular seu Fibonacci\"))\n",
        "resultado = fibonacci(x-1)\n",
        "print(\"O Fibonacci de %d é %d\" % (x,resultado))"
      ]
    },
    {
      "cell_type": "code",
      "source": [
        "def fatorial_iterativo(n):\n",
        "  fatorial = 1\n",
        "  while (n):\n",
        "    fatorial *= n\n",
        "    n -= 1\n",
        "  return fatorial\n",
        "x = int(input(\"Digite um número para calcular o seu fatorial. \"))\n",
        "resultado = fatorial_iterativo(x)\n",
        "print(\"o fatorial de %d é %d\" % (x,resultado))"
      ],
      "metadata": {
        "colab": {
          "base_uri": "https://localhost:8080/"
        },
        "id": "0KoTaffyooQx",
        "outputId": "d1ca2270-5873-4c3a-9eab-0d4e2303d04c"
      },
      "execution_count": null,
      "outputs": [
        {
          "output_type": "stream",
          "name": "stdout",
          "text": [
            "Digite um número para calcular o seu fatorial. 12\n",
            "o fatorial de 12 é 479001600\n"
          ]
        }
      ]
    },
    {
      "cell_type": "code",
      "source": [
        "def fatorial(numero):\n",
        "  if numero ==0 or numero ==1:\n",
        "    return 1\n",
        "  else:\n",
        "    return numero*fatorial(numero-1) #OPERAÇÕES\n",
        "\n",
        "  x = int(input(\"Digite um número para calcular o seu fatorial. \"))\n",
        "  resultado = fatorial(x)\n",
        "  print(\"o fatorial de %d é %d\" % (x,resultado))"
      ],
      "metadata": {
        "id": "E6w6bktPUVqV"
      },
      "execution_count": null,
      "outputs": []
    },
    {
      "cell_type": "code",
      "source": [],
      "metadata": {
        "id": "xpotxYSYZmJx"
      },
      "execution_count": null,
      "outputs": []
    }
  ]
}