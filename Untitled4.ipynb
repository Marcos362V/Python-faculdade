{
  "nbformat": 4,
  "nbformat_minor": 0,
  "metadata": {
    "colab": {
      "provenance": []
    },
    "kernelspec": {
      "name": "python3",
      "display_name": "Python 3"
    },
    "language_info": {
      "name": "python"
    }
  },
  "cells": [
    {
      "cell_type": "code",
      "execution_count": null,
      "metadata": {
        "id": "U__LrSOzZO6x"
      },
      "outputs": [],
      "source": [
        "tem_cafe = True\n",
        "tem_pao = False\n",
        "\n"
      ]
    },
    {
      "cell_type": "code",
      "source": [
        "print(not tem_cafe)\n",
        "print(tem_cafe or tem_pao)\n",
        "print(tem_cafe and tem_pao)"
      ],
      "metadata": {
        "colab": {
          "base_uri": "https://localhost:8080/"
        },
        "id": "32YzFqvBh4Md",
        "outputId": "87330b72-8a14-4c94-e612-120f3f18fd8d"
      },
      "execution_count": null,
      "outputs": [
        {
          "output_type": "stream",
          "name": "stdout",
          "text": [
            "False\n",
            "True\n",
            "False\n"
          ]
        }
      ]
    },
    {
      "cell_type": "code",
      "source": [
        "dolar = 5.3\n",
        "real = 1"
      ],
      "metadata": {
        "id": "1gX3Yo6DjBZv"
      },
      "execution_count": null,
      "outputs": []
    },
    {
      "cell_type": "code",
      "source": [
        "print(dolar > real )\n",
        "print(dolar < real)\n",
        "print(dolar == real)\n",
        "print(dolar >= real)\n",
        "print(dolar <= real)\n",
        "print(dolar != real)"
      ],
      "metadata": {
        "colab": {
          "base_uri": "https://localhost:8080/"
        },
        "id": "QroCWEHRjTfV",
        "outputId": "d100938d-c7b3-4df0-99f7-c11486e8a9c8"
      },
      "execution_count": null,
      "outputs": [
        {
          "output_type": "stream",
          "name": "stdout",
          "text": [
            "True\n",
            "False\n",
            "False\n",
            "True\n",
            "False\n",
            "True\n"
          ]
        }
      ]
    },
    {
      "cell_type": "code",
      "source": [
        "valor_passagem = 4.30\n",
        "valor_corrida = input('Qual é o valor da corrida')\n",
        "if float (valor_corrida)"
      ],
      "metadata": {
        "id": "IAxg7s1Vkeu0"
      },
      "execution_count": null,
      "outputs": []
    }
  ]
}