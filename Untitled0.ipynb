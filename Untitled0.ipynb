{
  "nbformat": 4,
  "nbformat_minor": 0,
  "metadata": {
    "colab": {
      "provenance": []
    },
    "kernelspec": {
      "name": "python3",
      "display_name": "Python 3"
    },
    "language_info": {
      "name": "python"
    }
  },
  "cells": [
    {
      "cell_type": "code",
      "execution_count": null,
      "metadata": {
        "colab": {
          "base_uri": "https://localhost:8080/"
        },
        "id": "Z0KlJYYct4-i",
        "outputId": "d5c634b4-badf-493f-a134-8c266713976a"
      },
      "outputs": [
        {
          "output_type": "stream",
          "name": "stdout",
          "text": [
            "Meu nome\n"
          ]
        }
      ],
      "source": [
        "print('Meu nome')"
      ]
    },
    {
      "cell_type": "code",
      "source": [
        "print('Marcos' * 5) #esse comando repete o texto 5 vezes"
      ],
      "metadata": {
        "colab": {
          "base_uri": "https://localhost:8080/"
        },
        "id": "-zrMO65lv8oT",
        "outputId": "41124ced-f1c9-489d-a1ac-6a6d01a086ff"
      },
      "execution_count": null,
      "outputs": [
        {
          "output_type": "stream",
          "name": "stdout",
          "text": [
            "MarcosMarcosMarcosMarcosMarcos\n"
          ]
        }
      ]
    },
    {
      "cell_type": "code",
      "source": [
        "print('Parabéns para você', end =\" \" )\n",
        "print('nessa data querida')"
      ],
      "metadata": {
        "colab": {
          "base_uri": "https://localhost:8080/"
        },
        "id": "frK_cCoEwPKg",
        "outputId": "8735f7b8-92f4-4383-e794-b9fb3503c861"
      },
      "execution_count": null,
      "outputs": [
        {
          "output_type": "stream",
          "name": "stdout",
          "text": [
            "Parabéns para você nessa data querida\n"
          ]
        }
      ]
    },
    {
      "cell_type": "markdown",
      "source": [
        "testar se um número é par\n",
        "divida o número por 2, se o resto da divisão for zero, então o número é par. Para executar esse comando use o símbolo de % (módulo ou mod)\n",
        "\n"
      ],
      "metadata": {
        "id": "w74gtqzq5BiR"
      }
    },
    {
      "cell_type": "code",
      "source": [
        "print(4 % 2)"
      ],
      "metadata": {
        "colab": {
          "base_uri": "https://localhost:8080/"
        },
        "id": "dO_ACGYGw3m8",
        "outputId": "216ac82d-7b14-44e0-b8b6-73fbc02ef1c1"
      },
      "execution_count": null,
      "outputs": [
        {
          "output_type": "stream",
          "name": "stdout",
          "text": [
            "0\n"
          ]
        }
      ]
    },
    {
      "cell_type": "code",
      "source": [
        "print(5 % 2)"
      ],
      "metadata": {
        "colab": {
          "base_uri": "https://localhost:8080/"
        },
        "id": "_jz4doC15yil",
        "outputId": "c20d4f5b-0b9f-4575-8bcb-beb52cb617e5"
      },
      "execution_count": null,
      "outputs": [
        {
          "output_type": "stream",
          "name": "stdout",
          "text": [
            "1\n"
          ]
        }
      ]
    },
    {
      "cell_type": "code",
      "source": [
        "print(10 % 2)"
      ],
      "metadata": {
        "colab": {
          "base_uri": "https://localhost:8080/"
        },
        "id": "XmTqbZLQ54qx",
        "outputId": "a4658a7d-083f-42db-f78d-e4b2063253ae"
      },
      "execution_count": null,
      "outputs": [
        {
          "output_type": "stream",
          "name": "stdout",
          "text": [
            "0\n"
          ]
        }
      ]
    },
    {
      "cell_type": "code",
      "source": [
        "nota1 = 7.5\n",
        "nota2 = 8.0\n",
        "nota3 = 4.5\n",
        "média = (nota1+nota2+nota3)/3\n",
        "print (média)"
      ],
      "metadata": {
        "colab": {
          "base_uri": "https://localhost:8080/"
        },
        "id": "3PTiL7ZQ6DZW",
        "outputId": "984a856b-a8a3-4fbd-ccce-232083417e2b"
      },
      "execution_count": null,
      "outputs": [
        {
          "output_type": "stream",
          "name": "stdout",
          "text": [
            "6.666666666666667\n"
          ]
        }
      ]
    },
    {
      "cell_type": "code",
      "source": [
        "print(round(média,2))"
      ],
      "metadata": {
        "colab": {
          "base_uri": "https://localhost:8080/"
        },
        "id": "3l3p1aVf66tC",
        "outputId": "691f493b-77b8-408b-873b-a7038521f754"
      },
      "execution_count": null,
      "outputs": [
        {
          "output_type": "stream",
          "name": "stdout",
          "text": [
            "6.67\n"
          ]
        }
      ]
    },
    {
      "cell_type": "code",
      "source": [],
      "metadata": {
        "id": "dxD9l6ia7efY"
      },
      "execution_count": null,
      "outputs": []
    }
  ]
}