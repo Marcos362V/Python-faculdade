{
  "nbformat": 4,
  "nbformat_minor": 0,
  "metadata": {
    "colab": {
      "provenance": []
    },
    "kernelspec": {
      "name": "python3",
      "display_name": "Python 3"
    },
    "language_info": {
      "name": "python"
    }
  },
  "cells": [
    {
      "cell_type": "code",
      "execution_count": null,
      "metadata": {
        "id": "nuQrJj3m7nHq"
      },
      "outputs": [],
      "source": [
        "Tipos de Váriaveis"
      ]
    },
    {
      "cell_type": "markdown",
      "source": [
        "Trabalhando com variáveis\n",
        "\n",
        " **Tipos de variáveis**\n",
        "\n",
        "*   int - inteiro\n",
        "*   float - decimal\n",
        "*   str - string(texto)\n",
        "*   boolean - lógico\n",
        "\n",
        "**Para criar nomes de variáveis**\n",
        "\n",
        "*   começar com letras e não com números\n",
        "*   não conter espaço em branco\n",
        "*   preferencialmente com letras minúsculas\n",
        "\n",
        "**Comando TYPE é usando para mostrar o tipo da variável\n",
        "\n",
        "\n",
        "\n",
        "\n",
        "\n",
        "\n",
        "\n",
        "\n",
        "\n",
        "\n"
      ],
      "metadata": {
        "id": "EONecbY_8LX-"
      }
    },
    {
      "cell_type": "code",
      "source": [
        "nome_da_pessoa = ('Rita Cassiano')\n",
        "print(nome_da_pessoa)"
      ],
      "metadata": {
        "colab": {
          "base_uri": "https://localhost:8080/"
        },
        "id": "5X0Pgzb_9yII",
        "outputId": "98f616f6-54e4-4dc5-9ab7-5bbb167fd541"
      },
      "execution_count": null,
      "outputs": [
        {
          "output_type": "stream",
          "name": "stdout",
          "text": [
            "Rita Cassiano\n"
          ]
        }
      ]
    },
    {
      "cell_type": "code",
      "source": [
        "nota = 7.5\n",
        "print(nota)\n"
      ],
      "metadata": {
        "colab": {
          "base_uri": "https://localhost:8080/"
        },
        "id": "O8GbDh-l-G7M",
        "outputId": "3b79b580-b30a-41ae-9f2c-842c6b39c131"
      },
      "execution_count": null,
      "outputs": [
        {
          "output_type": "stream",
          "name": "stdout",
          "text": [
            "7.5\n"
          ]
        }
      ]
    },
    {
      "cell_type": "code",
      "source": [
        "type (nota)"
      ],
      "metadata": {
        "colab": {
          "base_uri": "https://localhost:8080/"
        },
        "id": "OUyY-Pt8-uBt",
        "outputId": "5ac7b8af-4aaa-4e1e-ec56-08840b95bcff"
      },
      "execution_count": null,
      "outputs": [
        {
          "output_type": "execute_result",
          "data": {
            "text/plain": [
              "float"
            ]
          },
          "metadata": {},
          "execution_count": 3
        }
      ]
    },
    {
      "cell_type": "code",
      "source": [
        "a = 3\n",
        "b = 4\n",
        "c = a < b\n",
        "d = a > b\n",
        "e= a == b\n",
        "\n",
        "print('valor de c:', c )\n",
        "print('valor de d:', d)\n",
        "print('valor de e:', e)"
      ],
      "metadata": {
        "colab": {
          "base_uri": "https://localhost:8080/"
        },
        "id": "6glsjpsL-y8t",
        "outputId": "72a90102-c90d-44fc-ec32-bfe999ad177d"
      },
      "execution_count": null,
      "outputs": [
        {
          "output_type": "stream",
          "name": "stdout",
          "text": [
            "valor de c: True\n",
            "valor de d: False\n",
            "valor de e: False\n"
          ]
        }
      ]
    },
    {
      "cell_type": "code",
      "source": [],
      "metadata": {
        "id": "PtgCctki_3kT"
      },
      "execution_count": null,
      "outputs": []
    }
  ]
}