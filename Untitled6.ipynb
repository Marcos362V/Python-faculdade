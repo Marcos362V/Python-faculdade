{
  "nbformat": 4,
  "nbformat_minor": 0,
  "metadata": {
    "colab": {
      "provenance": []
    },
    "kernelspec": {
      "name": "python3",
      "display_name": "Python 3"
    },
    "language_info": {
      "name": "python"
    }
  },
  "cells": [
    {
      "cell_type": "code",
      "execution_count": null,
      "metadata": {
        "colab": {
          "base_uri": "https://localhost:8080/"
        },
        "id": "pOuAInXhRjvQ",
        "outputId": "9d24a296-910a-4ff6-a51a-8f908c8d3521"
      },
      "outputs": [
        {
          "output_type": "stream",
          "name": "stdout",
          "text": [
            "A menor distância entre AAA e FFF é: 46\n"
          ]
        }
      ],
      "source": [
        "import heapq\n",
        "\n",
        "# Representação do grafo utilizando lista de adjacência\n",
        "graph = {\n",
        "    'AAA': {'BBB': 20, 'CCC': 20, 'DDD': 38, 'EEE': 39, 'FFF': 46},\n",
        "    'BBB': {'AAA': 20, 'CCC': 27, 'DDD': 44},\n",
        "    'CCC': {'AAA': 20, 'BBB': 27, 'DDD': 45, 'HHH': 32},\n",
        "    'DDD': {'AAA': 38, 'BBB': 44, 'CCC': 45, 'EEE': 21, 'FFF': 20, 'GGG': 26},\n",
        "    'EEE': {'AAA': 39},\n",
        "    'FFF': {'AAA': 46, 'DDD': 20, 'III': 17},\n",
        "    'GGG': {'DDD': 26, 'HHH': 36},\n",
        "    'HHH': {'CCC': 32, 'GGG': 36, 'III': 17},\n",
        "    'III': {'FFF': 17, 'HHH': 17, 'JJJ': 36},\n",
        "    'JJJ': {'CCC': 32, 'III': 36}\n",
        "}\n",
        "\n",
        "def dijkstra(graph, start, end):\n",
        "    # Inicializar as distâncias de todos os nós como infinito e a distância inicial como 0\n",
        "    distances = {node: float('infinity') for node in graph}\n",
        "    distances[start] = 0\n",
        "    priority_queue = [(0, start)]\n",
        "\n",
        "    while priority_queue:\n",
        "        current_distance, current_node = heapq.heappop(priority_queue)\n",
        "\n",
        "        # Condição de término se alcançamos o nó de destino\n",
        "        if current_node == end:\n",
        "            break\n",
        "\n",
        "        if current_distance > distances[current_node]:\n",
        "            continue\n",
        "\n",
        "        for neighbor, weight in graph[current_node].items():\n",
        "            distance = current_distance + weight\n",
        "\n",
        "            # Apenas considerar este novo caminho se for melhor\n",
        "            if distance < distances[neighbor]:\n",
        "                distances[neighbor] = distance\n",
        "                heapq.heappush(priority_queue, (distance, neighbor))\n",
        "\n",
        "    return distances[end]\n",
        "\n",
        "# Encontrar o menor caminho de AAA para FFF\n",
        "start = 'AAA'\n",
        "end = 'FFF'\n",
        "shortest_distance = dijkstra(graph, start, end)\n",
        "print(\"A menor distância entre AAA e FFF é:\", shortest_distance)\n"
      ]
    }
  ]
}