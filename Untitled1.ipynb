{
  "nbformat": 4,
  "nbformat_minor": 0,
  "metadata": {
    "colab": {
      "provenance": []
    },
    "kernelspec": {
      "name": "python3",
      "display_name": "Python 3"
    },
    "language_info": {
      "name": "python"
    }
  },
  "cells": [
    {
      "cell_type": "code",
      "execution_count": null,
      "metadata": {
        "colab": {
          "base_uri": "https://localhost:8080/"
        },
        "id": "clByuH__Q2Ba",
        "outputId": "f3d88e18-8b56-4344-87bb-78c336593aef"
      },
      "outputs": [
        {
          "output_type": "stream",
          "name": "stdout",
          "text": [
            "6\n"
          ]
        }
      ],
      "source": [
        "mydict = {\"cat\":12, \"dog\":6, \"elephant\":23}\n",
        "print(mydict[\"dog\"])"
      ]
    },
    {
      "cell_type": "code",
      "source": [
        "animais = ['Gato', 'Cachorro', 'Cavalo', 'Papagaio']\n",
        "'Cavalo' in animais"
      ],
      "metadata": {
        "colab": {
          "base_uri": "https://localhost:8080/"
        },
        "id": "7WZeDOYqTQuZ",
        "outputId": "a1f6bf6c-3408-4024-e996-6fd4908dddca"
      },
      "execution_count": null,
      "outputs": [
        {
          "output_type": "execute_result",
          "data": {
            "text/plain": [
              "True"
            ]
          },
          "metadata": {},
          "execution_count": 2
        }
      ]
    },
    {
      "cell_type": "code",
      "source": [
        "total = 0\n",
        "pessoas = {\"João\":23, \"Pedro\":45, \"Linda\":34, \"Luiza\":12}\n",
        "\n",
        "for key in pessoas:\n",
        "  if len(key) > 5:\n",
        "    total += pessoas[key]\n",
        "print(total)"
      ],
      "metadata": {
        "colab": {
          "base_uri": "https://localhost:8080/"
        },
        "id": "Pg4AEKJmUBNB",
        "outputId": "45df71e8-a41f-4e98-f8d8-a2b94ad0696c"
      },
      "execution_count": null,
      "outputs": [
        {
          "output_type": "stream",
          "name": "stdout",
          "text": [
            "0\n"
          ]
        }
      ]
    },
    {
      "cell_type": "code",
      "source": [
        "\n"
      ],
      "metadata": {
        "id": "URq-2PtFU_Zx"
      },
      "execution_count": null,
      "outputs": []
    }
  ]
}